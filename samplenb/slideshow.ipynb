{
 "cells": [
  {
   "cell_type": "markdown",
   "metadata": {
    "slideshow": {
     "slide_type": "-"
    }
   },
   "source": [
    "# Slide One\n",
    "\n",
    "<img src=\"logos.3.600.wide.png\" width=\"600\">"
   ]
  },
  {
   "cell_type": "markdown",
   "metadata": {
    "slideshow": {
     "slide_type": "-"
    }
   },
   "source": [
    "# Slide Two\n",
    "<img src=\"logos.3.600.wide.png\" width=\"200\" align='right'>"
   ]
  },
  {
   "cell_type": "markdown",
   "metadata": {
    "slideshow": {
     "slide_type": "-"
    }
   },
   "source": [
    "# Slide Two, sub-slide\n",
    "<img src=\"logos.3.600.wide.png\" width=\"200\" align='right'>"
   ]
  },
  {
   "cell_type": "code",
   "execution_count": null,
   "metadata": {
    "collapsed": false,
    "slideshow": {
     "slide_type": "subslide"
    }
   },
   "outputs": [],
   "source": [
    "# Intermediary slide...\n",
    "# With Python code on it...\n",
    "\n",
    "text = '!kcor swohsedilS retypuJ'\n",
    "reverse_text = text[::-1]\n",
    "\n",
    "print(text)\n",
    "print()\n",
    "print(reverse_text)\n",
    "\n"
   ]
  },
  {
   "cell_type": "code",
   "execution_count": null,
   "metadata": {
    "collapsed": true,
    "slideshow": {
     "slide_type": "subslide"
    }
   },
   "outputs": [],
   "source": [
    "# Another Intermediary slide...\n",
    "# With Python code on it...\n",
    "\n",
    "import matplotlib.pyplot as plt\n",
    "import numpy as np\n",
    "\n",
    "with plt.xkcd():\n",
    "    # Based on \"Stove Ownership\" from XKCD by Randall Monroe\n",
    "    # http://xkcd.com/418/\n",
    "\n",
    "    fig = plt.figure()\n",
    "    ax = fig.add_axes((0.1, 0.2, 0.8, 0.7))\n",
    "    ax.spines['right'].set_color('none')\n",
    "    ax.spines['top'].set_color('none')\n",
    "    plt.xticks([])\n",
    "    plt.yticks([])\n",
    "    ax.set_ylim([-30, 10])\n",
    "\n",
    "    data = np.ones(100)\n",
    "    data[70:] -= np.arange(30)\n",
    "\n",
    "    plt.annotate(\n",
    "        'THE DAY I REALIZED\\nI COULD COOK BACON\\nWHENEVER I WANTED',\n",
    "        xy=(70, 1), arrowprops=dict(arrowstyle='->'), xytext=(15, -10))\n",
    "\n",
    "    plt.plot(data)\n",
    "\n",
    "    plt.xlabel('time')\n",
    "    plt.ylabel('my overall health')\n",
    "    fig.text(\n",
    "        0.5, 0.05,\n",
    "        '\"Stove Ownership\" from xkcd by Randall Monroe',\n",
    "        ha='center')\n",
    "\n",
    "    # Based on \"The Data So Far\" from XKCD by Randall Monroe\n",
    "    # http://xkcd.com/373/\n",
    "\n",
    "    fig = plt.figure()\n",
    "    ax = fig.add_axes((0.1, 0.2, 0.8, 0.7))\n",
    "    ax.bar([-0.125, 1.0 - 0.125], [0, 100], 0.25)\n",
    "    ax.spines['right'].set_color('none')\n",
    "    ax.spines['top'].set_color('none')\n",
    "    ax.xaxis.set_ticks_position('bottom')\n",
    "    ax.set_xticks([0, 1])\n",
    "    ax.set_xlim([-0.5, 1.5])\n",
    "    ax.set_ylim([0, 110])\n",
    "    ax.set_xticklabels(['CONFIRMED BY\\nEXPERIMENT', 'REFUTED BY\\nEXPERIMENT'])\n",
    "    plt.yticks([])\n",
    "\n",
    "    plt.title(\"CLAIMS OF SUPERNATURAL POWERS\")\n",
    "\n",
    "    fig.text(\n",
    "        0.5, 0.05,\n",
    "        '\"The Data So Far\" from xkcd by Randall Monroe',\n",
    "        ha='center')"
   ]
  },
  {
   "cell_type": "code",
   "execution_count": null,
   "metadata": {
    "collapsed": false,
    "slideshow": {
     "slide_type": "subslide"
    }
   },
   "outputs": [],
   "source": [
    "plt.show()"
   ]
  },
  {
   "cell_type": "markdown",
   "metadata": {
    "slideshow": {
     "slide_type": "subslide"
    }
   },
   "source": [
    "# Slide Two, sub-slide\n",
    "<img src=\"logos.3.600.wide.png\" width=\"200\" align='right'>"
   ]
  },
  {
   "cell_type": "markdown",
   "metadata": {
    "slideshow": {
     "slide_type": "slide"
    }
   },
   "source": [
    "# Slide Three\n"
   ]
  },
  {
   "cell_type": "markdown",
   "metadata": {
    "slideshow": {
     "slide_type": "fragment"
    }
   },
   "source": [
    "# Slide Three, fragment one"
   ]
  },
  {
   "cell_type": "markdown",
   "metadata": {
    "slideshow": {
     "slide_type": "fragment"
    }
   },
   "source": [
    "# Slide Three, fragment two"
   ]
  },
  {
   "cell_type": "markdown",
   "metadata": {
    "slideshow": {
     "slide_type": "fragment"
    }
   },
   "source": [
    "# Slide Three, fragment three"
   ]
  },
  {
   "cell_type": "markdown",
   "metadata": {
    "slideshow": {
     "slide_type": "fragment"
    }
   },
   "source": [
    "# Slide Three, fragment four\n",
    "<img src=\"logos.3.600.wide.png\" width=\"200\" align='right'>"
   ]
  },
  {
   "cell_type": "markdown",
   "metadata": {
    "slideshow": {
     "slide_type": "slide"
    }
   },
   "source": [
    "# We are about to skip some slides...\n",
    "<img src=\"logos.3.600.wide.png\" width=\"200\" align='right'>"
   ]
  },
  {
   "cell_type": "markdown",
   "metadata": {
    "slideshow": {
     "slide_type": "skip"
    }
   },
   "source": [
    "# Skip this slide..."
   ]
  },
  {
   "cell_type": "markdown",
   "metadata": {
    "slideshow": {
     "slide_type": "skip"
    }
   },
   "source": [
    "# Skip this slide, also..."
   ]
  },
  {
   "cell_type": "markdown",
   "metadata": {
    "slideshow": {
     "slide_type": "slide"
    }
   },
   "source": [
    "# We should have skipped two slides\n",
    "<img src=\"logos.3.600.wide.png\" width=\"200\" align='right'>"
   ]
  }
 ],
 "metadata": {
  "anaconda-cloud": {},
  "celltoolbar": "Slideshow",
  "kernelspec": {
   "display_name": "Python [conda env:tutorial]",
   "language": "python",
   "name": "conda-env-tutorial-py"
  },
  "language_info": {
   "codemirror_mode": {
    "name": "ipython",
    "version": 3
   },
   "file_extension": ".py",
   "mimetype": "text/x-python",
   "name": "python",
   "nbconvert_exporter": "python",
   "pygments_lexer": "ipython3",
   "version": "3.5.2"
  }
 },
 "nbformat": 4,
 "nbformat_minor": 1
}
